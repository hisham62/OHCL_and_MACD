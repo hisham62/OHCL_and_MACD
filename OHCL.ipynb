{
 "cells": [
  {
   "cell_type": "code",
   "execution_count": null,
   "metadata": {},
   "outputs": [],
   "source": [
    "\n",
    "import pandas as pd\n",
    "import mplfinance as mpf\n",
    "from io import BytesIO\n",
    "#from reportlab.lib.pagesizes import letter\n",
    "##from reportlab.pdfgen import canvas\n",
    "from google.colab import files\n",
    "\n",
    "# Load your dataset here\n",
    "# Replace 'your_dataset.csv' with the actual path to your dataset\n",
    "# Make sure your dataset has columns named 'Date', 'Open', 'High', 'Low', and 'Close'\n",
    "your_data = pd.read_csv('/content/drive/My Drive/datasets/toronto.csv')\n",
    "\n",
    "# Convert the 'Date' column to a datetime object\n",
    "your_data['Date'] = pd.to_datetime(your_data['Date'])\n",
    "\n",
    "# Filter the data for a specific interval\n",
    "start_date = pd.to_datetime('2022-12-01')\n",
    "end_date = pd.to_datetime('2023-03-01')\n",
    "filtered_data = your_data[(your_data['Date'] >= start_date) & (your_data['Date'] <= end_date)]\n",
    "\n",
    "# Create a DataFrame\n",
    "df = filtered_data.copy()\n",
    "df.set_index('Date', inplace=True)\n",
    "\n",
    "# Set the style of the plot\n",
    "mc = mpf.make_marketcolors(up='g', down='r')  # Customize colors for up and down days\n",
    "s = mpf.make_mpf_style(marketcolors=mc)\n",
    "\n",
    "# Create an OHLC Chart\n",
    "mpf.plot(df, type='ohlc', style='charles', title='OHLC Chart')\n",
    "\n",
    "\n",
    "plt.legend()\n",
    "\n",
    "# Save the plot as a PDF file\n",
    "plt.savefig(\"OHLC Chart.pdf\", format='pdf')\n",
    "\n",
    "# Download the PDF\n",
    "files.download(\"OHLC Chart.pdf\")\n",
    "plt.show()\n",
    "\n"
   ]
  }
 ],
 "metadata": {
  "language_info": {
   "name": "python"
  },
  "orig_nbformat": 4
 },
 "nbformat": 4,
 "nbformat_minor": 2
}
