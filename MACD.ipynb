{
 "cells": [
  {
   "cell_type": "code",
   "execution_count": null,
   "metadata": {},
   "outputs": [],
   "source": [
    "import pandas as pd\n",
    "import matplotlib.pyplot as plt\n",
    "\n",
    "# Load your data and calculate MACD as you did before\n",
    "\n",
    "# Define the specific week interval\n",
    "start_date = '2020-12-01'\n",
    "end_date = '2021-03-30'\n",
    "\n",
    "# Slice the data for the specified week interval\n",
    "week_data = df[start_date:end_date]\n",
    "\n",
    "# Calculate MACD for the specific week\n",
    "exp12 = week_data['Close'].ewm(span=12, adjust=False).mean()\n",
    "exp26 = week_data['Close'].ewm(span=26, adjust=False).mean()\n",
    "macd = exp12 - exp26\n",
    "signal = macd.ewm(span=9, adjust=False).mean()\n",
    "\n",
    "# Create a figure and axis for the MACD chart\n",
    "fig, ax1 = plt.subplots(figsize=(10, 6))\n",
    "\n",
    "# Plot MACD and Signal Line for the specific week\n",
    "ax1.plot(week_data.index, macd, color='b', label='MACD')\n",
    "ax1.plot(week_data.index, signal, color='r', label='Signal')\n",
    "ax1.set_ylabel('MACD')\n",
    "ax1.legend(loc='upper left')\n",
    "\n",
    "# Create a twin Axes for the Histogram for the specific week\n",
    "ax2 = ax1.twinx()\n",
    "ax2.bar(week_data.index, macd - signal, color='g', alpha=0.5, label='Histogram')\n",
    "ax2.set_ylabel('Histogram')\n",
    "ax2.legend(loc='upper right')\n",
    "\n",
    "# Show the plot\n",
    "plt.title('MACD Chart for four months')\n",
    "# Add a legend\n",
    "plt.legend()\n",
    "\n",
    "# Save the plot as a PDF file\n",
    "plt.savefig(\"MACD Chart for four months.pdf\", format='pdf')\n",
    "\n",
    "# Download the PDF\n",
    "files.download(\"MACD Chart for four months.pdf\")\n",
    "plt.show()"
   ]
  }
 ],
 "metadata": {
  "language_info": {
   "name": "python"
  },
  "orig_nbformat": 4
 },
 "nbformat": 4,
 "nbformat_minor": 2
}
